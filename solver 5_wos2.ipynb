{
 "cells": [
  {
   "cell_type": "code",
   "execution_count": 2,
   "metadata": {},
   "outputs": [
    {
     "name": "stdout",
     "output_type": "stream",
     "text": [
      "11701\n"
     ]
    },
    {
     "data": {
      "text/plain": [
       "1246"
      ]
     },
     "execution_count": 2,
     "metadata": {},
     "output_type": "execute_result"
    }
   ],
   "source": [
    "from wosolver2 import get_initial_corpus, get_possible_words \n",
    "from wosolver2 import get_unique_letter_frequencies, get_letter_frequencies_by_position, get_best_guess\n",
    "from wosolver2 import wordle_answers_list, other_possible_guesses\n",
    "from random import shuffle\n",
    "print(len(other_possible_guesses))\n",
    "len(wordle_answers_list)"
   ]
  },
  {
   "cell_type": "code",
   "execution_count": 8,
   "metadata": {},
   "outputs": [
    {
     "name": "stdout",
     "output_type": "stream",
     "text": [
      "1\n",
      "['lowly']\n",
      "{'o': 1, 'w': 1, 'l': 1, 'y': 1}\n",
      "{0: {'l': 1}, 1: {'o': 1}, 2: {'w': 1}, 3: {'l': 1}, 4: {'y': 1}}\n"
     ]
    }
   ],
   "source": [
    "### word 1\n",
    "word_list = \\\n",
    "get_possible_words(\n",
    "input_word_list = wordle_answers_list,\n",
    "known_placements = \"lo00y\",\n",
    "known_in = \"l\",\n",
    "known_out = \"raisecbft\",\n",
    "known_out_posns = {2:\"l\"}\n",
    ")\n",
    "\n",
    "#shuffle(word_list)\n",
    "\n",
    "#word_list = []\n",
    "print(len(word_list))\n",
    "print(word_list[0:25])\n",
    "print(get_unique_letter_frequencies(word_list))\n",
    "print(get_letter_frequencies_by_position(word_list))"
   ]
  },
  {
   "cell_type": "code",
   "execution_count": 7,
   "metadata": {},
   "outputs": [
    {
     "name": "stdout",
     "output_type": "stream",
     "text": [
      "(1, ['lofty'])\n"
     ]
    }
   ],
   "source": [
    "### best guess from results of latest try\n",
    "custom_word_list = word_list\n",
    "\n",
    "best_guess = get_best_guess(list_possible_words = custom_word_list)\n",
    "\n",
    "print(best_guess)"
   ]
  },
  {
   "cell_type": "code",
   "execution_count": null,
   "metadata": {},
   "outputs": [],
   "source": [
    "### best starting guess\n",
    "custom_word_list = wordle_answers_list\n",
    "best_guess = get_best_guess(list_possible_words = custom_word_list)\n",
    "\n",
    "with open('note1.txt', 'w') as f:\n",
    "    f.write(str(best_guess))\n",
    "    \n",
    "print(best_guess)"
   ]
  },
  {
   "cell_type": "raw",
   "metadata": {},
   "source": [
    "Answer for full answer list\n",
    "(60.13209181463837, ['roate'])\n",
    "\n",
    "Answer after 3/7/22 \"hoard\"\n",
    "(53.72691744015633, ['raise'])"
   ]
  },
  {
   "cell_type": "code",
   "execution_count": null,
   "metadata": {},
   "outputs": [],
   "source": [
    "from statistics import median\n",
    "\n",
    "median(\n",
    "[2 for i in range(3)]+\n",
    "[3 for i in range(24)]+\n",
    "    [4 for i in range(23)]+\n",
    "    [5 for i in range(8)]+\n",
    "    [6 for i in range(2)]\n",
    ")"
   ]
  },
  {
   "cell_type": "code",
   "execution_count": null,
   "metadata": {},
   "outputs": [],
   "source": [
    "# print(word_list)"
   ]
  }
 ],
 "metadata": {
  "kernelspec": {
   "display_name": "Python 3 (Data Science)",
   "language": "python",
   "name": "python3__SAGEMAKER_INTERNAL__arn:aws:sagemaker:us-east-1:081325390199:image/datascience-1.0"
  },
  "language_info": {
   "codemirror_mode": {
    "name": "ipython",
    "version": 3
   },
   "file_extension": ".py",
   "mimetype": "text/x-python",
   "name": "python",
   "nbconvert_exporter": "python",
   "pygments_lexer": "ipython3",
   "version": "3.7.10"
  }
 },
 "nbformat": 4,
 "nbformat_minor": 4
}
